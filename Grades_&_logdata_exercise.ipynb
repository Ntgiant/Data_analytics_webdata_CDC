{
 "cells": [
  {
   "cell_type": "markdown",
   "id": "34c0dae5",
   "metadata": {},
   "source": [
    "### The dataset file in [grades.txt](grades.txt) contains a line separated list of people with their grade in \n",
    "### a class. Let's create a regex to generate a list of just those students who received a B in the course."
   ]
  },
  {
   "cell_type": "code",
   "execution_count": 1,
   "id": "66c8226d",
   "metadata": {},
   "outputs": [],
   "source": [
    "# importing regex\n",
    "import re"
   ]
  },
  {
   "cell_type": "code",
   "execution_count": 2,
   "id": "8f95a1a1",
   "metadata": {},
   "outputs": [],
   "source": [
    "# reading the file\n",
    "with open (\"grades.txt\", \"r\") as file:\n",
    "        grades = file.read()"
   ]
  },
  {
   "cell_type": "code",
   "execution_count": 3,
   "id": "00e9b6e1",
   "metadata": {},
   "outputs": [
    {
     "data": {
      "text/plain": [
       "'Ronald Mayr: A\\nBell Kassulke: B\\nJacqueline Rupp: A \\nAlexander Zeller: C\\nValentina Denk: C \\nSimon Loidl: B \\nElias Jovanovic: B \\nStefanie Weninger: A \\nFabian Peer: C \\nHakim Botros: B\\nEmilie Lorentsen: B\\nHerman Karlsen: C\\nNathalie Delacruz: C\\nCasey Hartman: C\\nLily Walker : A\\nGerard Wang: C\\nTony Mcdowell: C\\nJake Wood: B\\nFatemeh Akhtar: B\\nKim Weston: B\\nNicholas Beatty: A\\nKirsten Williams: C\\nVaishali Surana: C\\nCoby Mccormack: C\\nYasmin Dar: B\\nRomy Donnelly: A\\nViswamitra Upandhye: B\\nKendrick Hilpert: A\\nKillian Kaufman: B\\nElwood Page: B\\nMukti Patel: A\\nEmily Lesch: C\\nElodie Booker: B\\nJedd Kim: A\\nAnnabel Davies: A\\nAdnan Chen: B\\nJonathan Berg: C\\nHank Spinka: B\\nAgnes Schneider: C\\nKimberly Green: A\\nLola-Rose Coates: C\\nRose Christiansen: C\\nShirley Hintz: C\\nHannah Bayer: B'"
      ]
     },
     "execution_count": 3,
     "metadata": {},
     "output_type": "execute_result"
    }
   ],
   "source": [
    "grades"
   ]
  },
  {
   "cell_type": "code",
   "execution_count": 4,
   "id": "386b022c",
   "metadata": {},
   "outputs": [
    {
     "data": {
      "text/plain": [
       "['Bell Kassulke',\n",
       " 'Simon Loidl',\n",
       " 'Elias Jovanovic',\n",
       " 'Hakim Botros',\n",
       " 'Emilie Lorentsen',\n",
       " 'Jake Wood',\n",
       " 'Fatemeh Akhtar',\n",
       " 'Kim Weston',\n",
       " 'Yasmin Dar',\n",
       " 'Viswamitra Upandhye',\n",
       " 'Killian Kaufman',\n",
       " 'Elwood Page',\n",
       " 'Elodie Booker',\n",
       " 'Adnan Chen',\n",
       " 'Hank Spinka',\n",
       " 'Hannah Bayer']"
      ]
     },
     "execution_count": 4,
     "metadata": {},
     "output_type": "execute_result"
    }
   ],
   "source": [
    "# extracting the names of only those students who received B\n",
    "result_B = re.findall('([A-Z][a-z]* [A-Z][a-z]*)(?=[:]\\sB)', grades)\n",
    "result_B"
   ]
  },
  {
   "cell_type": "markdown",
   "id": "602d125d",
   "metadata": {},
   "source": [
    "### Consider the standard web log file in [logdata.txt](logdata.txt). This file records the access a user makes when visiting a web page (like this one!). Each line of the log has the following items:\n",
    "#### * a host (e.g., '146.204.224.152') \n",
    "#### * a user_name (e.g., 'feest6811' **note: sometimes the user name is missing! In this case, use '-' as the value for the username.**)\n",
    "#### * the time a request was made (e.g., '21/Jun/2019:15:45:24 -0700')\n",
    "#### * the post request type (e.g., 'POST /incentivize HTTP/1.1' **note: not everything is a POST!**)\n",
    "### Let's convert this into a list of dictionaries, where each dictionary looks like the following:\n",
    " ```\n",
    " example_dict = {\"host\":\"146.204.224.152\", \n",
    "                 \"user_name\":\"feest6811\", \n",
    "                 \"time\":\"21/Jun/2019:15:45:24 -0700\",\n",
    "                 \"request\":\"POST /incentivize HTTP/1.1\"}\n",
    " ```"
   ]
  },
  {
   "cell_type": "code",
   "execution_count": 5,
   "id": "6d6f6b18",
   "metadata": {},
   "outputs": [],
   "source": [
    "# reading the file\n",
    "with open(\"logdata.txt\", \"r\") as file:\n",
    "        logdata = file.read()"
   ]
  },
  {
   "cell_type": "code",
   "execution_count": 6,
   "id": "788f9a01",
   "metadata": {},
   "outputs": [],
   "source": [
    "result = []"
   ]
  },
  {
   "cell_type": "code",
   "execution_count": 7,
   "id": "f0575a3f",
   "metadata": {},
   "outputs": [],
   "source": [
    "# composing regex patterm in verbose mode\n",
    "pat = '''\n",
    "    (?P<host>[\\d]*[.][\\d]*[.][\\d]*[.][\\d]*)\n",
    "    (\\s[-]\\s)\n",
    "    (?P<user_name>[\\w]*[-]*)\n",
    "    ([\\s[])\n",
    "    ([\\s[])(?P<time>.*)\n",
    "    ([]]\\s[\"])\n",
    "    (?P<request>.*)\n",
    "    (?=[\"])'''"
   ]
  },
  {
   "cell_type": "code",
   "execution_count": 8,
   "id": "b3fa77c3",
   "metadata": {},
   "outputs": [],
   "source": [
    "# using regex in verbose mode with finditer() method. Appending the extracted information to the list\n",
    "for item in re.finditer(pat, logdata, re.VERBOSE):\n",
    "        result.append(item.groupdict())"
   ]
  },
  {
   "cell_type": "code",
   "execution_count": 10,
   "id": "8ba61d65",
   "metadata": {},
   "outputs": [
    {
     "data": {
      "text/plain": [
       "[{'host': '146.204.224.152',\n",
       "  'user_name': 'feest6811',\n",
       "  'time': '21/Jun/2019:15:45:24 -0700',\n",
       "  'request': 'POST /incentivize HTTP/1.1'},\n",
       " {'host': '197.109.77.178',\n",
       "  'user_name': 'kertzmann3129',\n",
       "  'time': '21/Jun/2019:15:45:25 -0700',\n",
       "  'request': 'DELETE /virtual/solutions/target/web+services HTTP/2.0'},\n",
       " {'host': '156.127.178.177',\n",
       "  'user_name': 'okuneva5222',\n",
       "  'time': '21/Jun/2019:15:45:27 -0700',\n",
       "  'request': 'DELETE /interactive/transparent/niches/revolutionize HTTP/1.1'},\n",
       " {'host': '100.32.205.59',\n",
       "  'user_name': 'ortiz8891',\n",
       "  'time': '21/Jun/2019:15:45:28 -0700',\n",
       "  'request': 'PATCH /architectures HTTP/1.0'},\n",
       " {'host': '168.95.156.240',\n",
       "  'user_name': 'stark2413',\n",
       "  'time': '21/Jun/2019:15:45:31 -0700',\n",
       "  'request': 'GET /engage HTTP/2.0'}]"
      ]
     },
     "execution_count": 10,
     "metadata": {},
     "output_type": "execute_result"
    }
   ],
   "source": [
    "# show first 5 dictionaries in the resulting list\n",
    "\n",
    "result[:5]"
   ]
  },
  {
   "cell_type": "code",
   "execution_count": 11,
   "id": "02f9aeda",
   "metadata": {},
   "outputs": [
    {
     "data": {
      "text/plain": [
       "{'host': '100.32.205.59',\n",
       " 'user_name': 'ortiz8891',\n",
       " 'time': '21/Jun/2019:15:45:28 -0700',\n",
       " 'request': 'PATCH /architectures HTTP/1.0'}"
      ]
     },
     "execution_count": 11,
     "metadata": {},
     "output_type": "execute_result"
    }
   ],
   "source": [
    "# info about the user with index 3\n",
    "result[3]"
   ]
  },
  {
   "cell_type": "code",
   "execution_count": 12,
   "id": "f7cd21f9",
   "metadata": {},
   "outputs": [
    {
     "data": {
      "text/plain": [
       "'luettgen1860'"
      ]
     },
     "execution_count": 12,
     "metadata": {},
     "output_type": "execute_result"
    }
   ],
   "source": [
    "# what is the user_name of the user with index 15\n",
    "result[15]['user_name']"
   ]
  },
  {
   "cell_type": "code",
   "execution_count": null,
   "id": "7a190cc3",
   "metadata": {},
   "outputs": [],
   "source": []
  }
 ],
 "metadata": {
  "kernelspec": {
   "display_name": "Python 3 (ipykernel)",
   "language": "python",
   "name": "python3"
  },
  "language_info": {
   "codemirror_mode": {
    "name": "ipython",
    "version": 3
   },
   "file_extension": ".py",
   "mimetype": "text/x-python",
   "name": "python",
   "nbconvert_exporter": "python",
   "pygments_lexer": "ipython3",
   "version": "3.10.0"
  }
 },
 "nbformat": 4,
 "nbformat_minor": 5
}
