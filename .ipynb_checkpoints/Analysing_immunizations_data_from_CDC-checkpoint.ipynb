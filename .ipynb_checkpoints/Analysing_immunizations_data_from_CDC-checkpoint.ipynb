{
 "cells": [
  {
   "cell_type": "markdown",
   "id": "b0e00263",
   "metadata": {},
   "source": [
    "## For this assignment we'll be looking at 2017 data on immunizations from the CDC. The datafile for this assignment is [NISPUF17.csv](NISPUF17.csv). A data users guide is available at [NIS-PUF17-DUG.pdf](NIS-PUF17-DUG.pdf)."
   ]
  },
  {
   "cell_type": "code",
   "execution_count": 1,
   "id": "5b21c52d",
   "metadata": {},
   "outputs": [],
   "source": [
    "# importing the necessary libraries\n",
    "import pandas as pd\n",
    "import scipy.stats as stats"
   ]
  },
  {
   "cell_type": "code",
   "execution_count": 2,
   "id": "23013187",
   "metadata": {},
   "outputs": [
    {
     "data": {
      "text/html": [
       "<div>\n",
       "<style scoped>\n",
       "    .dataframe tbody tr th:only-of-type {\n",
       "        vertical-align: middle;\n",
       "    }\n",
       "\n",
       "    .dataframe tbody tr th {\n",
       "        vertical-align: top;\n",
       "    }\n",
       "\n",
       "    .dataframe thead th {\n",
       "        text-align: right;\n",
       "    }\n",
       "</style>\n",
       "<table border=\"1\" class=\"dataframe\">\n",
       "  <thead>\n",
       "    <tr style=\"text-align: right;\">\n",
       "      <th></th>\n",
       "      <th>Unnamed: 0</th>\n",
       "      <th>SEQNUMC</th>\n",
       "      <th>SEQNUMHH</th>\n",
       "      <th>PDAT</th>\n",
       "      <th>PROVWT_D</th>\n",
       "      <th>RDDWT_D</th>\n",
       "      <th>STRATUM</th>\n",
       "      <th>YEAR</th>\n",
       "      <th>AGECPOXR</th>\n",
       "      <th>HAD_CPOX</th>\n",
       "      <th>...</th>\n",
       "      <th>XVRCTY2</th>\n",
       "      <th>XVRCTY3</th>\n",
       "      <th>XVRCTY4</th>\n",
       "      <th>XVRCTY5</th>\n",
       "      <th>XVRCTY6</th>\n",
       "      <th>XVRCTY7</th>\n",
       "      <th>XVRCTY8</th>\n",
       "      <th>XVRCTY9</th>\n",
       "      <th>INS_STAT2_I</th>\n",
       "      <th>INS_BREAK_I</th>\n",
       "    </tr>\n",
       "  </thead>\n",
       "  <tbody>\n",
       "    <tr>\n",
       "      <th>0</th>\n",
       "      <td>1</td>\n",
       "      <td>128521</td>\n",
       "      <td>12852</td>\n",
       "      <td>2</td>\n",
       "      <td>NaN</td>\n",
       "      <td>235.916956</td>\n",
       "      <td>1031</td>\n",
       "      <td>2017</td>\n",
       "      <td>NaN</td>\n",
       "      <td>2</td>\n",
       "      <td>...</td>\n",
       "      <td></td>\n",
       "      <td></td>\n",
       "      <td>NaN</td>\n",
       "      <td>NaN</td>\n",
       "      <td>NaN</td>\n",
       "      <td>NaN</td>\n",
       "      <td>NaN</td>\n",
       "      <td>NaN</td>\n",
       "      <td>NaN</td>\n",
       "      <td>NaN</td>\n",
       "    </tr>\n",
       "    <tr>\n",
       "      <th>1</th>\n",
       "      <td>2</td>\n",
       "      <td>10741</td>\n",
       "      <td>1074</td>\n",
       "      <td>2</td>\n",
       "      <td>NaN</td>\n",
       "      <td>957.353840</td>\n",
       "      <td>1068</td>\n",
       "      <td>2017</td>\n",
       "      <td>NaN</td>\n",
       "      <td>2</td>\n",
       "      <td>...</td>\n",
       "      <td></td>\n",
       "      <td></td>\n",
       "      <td>NaN</td>\n",
       "      <td>NaN</td>\n",
       "      <td>NaN</td>\n",
       "      <td>NaN</td>\n",
       "      <td>NaN</td>\n",
       "      <td>NaN</td>\n",
       "      <td>NaN</td>\n",
       "      <td>NaN</td>\n",
       "    </tr>\n",
       "    <tr>\n",
       "      <th>2</th>\n",
       "      <td>3</td>\n",
       "      <td>220011</td>\n",
       "      <td>22001</td>\n",
       "      <td>2</td>\n",
       "      <td>NaN</td>\n",
       "      <td>189.611299</td>\n",
       "      <td>1050</td>\n",
       "      <td>2017</td>\n",
       "      <td>NaN</td>\n",
       "      <td>2</td>\n",
       "      <td>...</td>\n",
       "      <td></td>\n",
       "      <td></td>\n",
       "      <td>NaN</td>\n",
       "      <td>NaN</td>\n",
       "      <td>NaN</td>\n",
       "      <td>NaN</td>\n",
       "      <td>NaN</td>\n",
       "      <td>NaN</td>\n",
       "      <td>NaN</td>\n",
       "      <td>NaN</td>\n",
       "    </tr>\n",
       "    <tr>\n",
       "      <th>3</th>\n",
       "      <td>4</td>\n",
       "      <td>86131</td>\n",
       "      <td>8613</td>\n",
       "      <td>1</td>\n",
       "      <td>675.430817</td>\n",
       "      <td>333.447418</td>\n",
       "      <td>1040</td>\n",
       "      <td>2017</td>\n",
       "      <td>NaN</td>\n",
       "      <td>2</td>\n",
       "      <td>...</td>\n",
       "      <td></td>\n",
       "      <td></td>\n",
       "      <td>NaN</td>\n",
       "      <td>NaN</td>\n",
       "      <td>NaN</td>\n",
       "      <td>NaN</td>\n",
       "      <td>NaN</td>\n",
       "      <td>NaN</td>\n",
       "      <td>1.0</td>\n",
       "      <td>2.0</td>\n",
       "    </tr>\n",
       "    <tr>\n",
       "      <th>4</th>\n",
       "      <td>5</td>\n",
       "      <td>227141</td>\n",
       "      <td>22714</td>\n",
       "      <td>1</td>\n",
       "      <td>482.617748</td>\n",
       "      <td>278.768063</td>\n",
       "      <td>1008</td>\n",
       "      <td>2017</td>\n",
       "      <td>NaN</td>\n",
       "      <td>2</td>\n",
       "      <td>...</td>\n",
       "      <td></td>\n",
       "      <td></td>\n",
       "      <td>NaN</td>\n",
       "      <td>NaN</td>\n",
       "      <td>NaN</td>\n",
       "      <td>NaN</td>\n",
       "      <td>NaN</td>\n",
       "      <td>NaN</td>\n",
       "      <td>2.0</td>\n",
       "      <td>1.0</td>\n",
       "    </tr>\n",
       "  </tbody>\n",
       "</table>\n",
       "<p>5 rows × 454 columns</p>\n",
       "</div>"
      ],
      "text/plain": [
       "   Unnamed: 0  SEQNUMC  SEQNUMHH  PDAT    PROVWT_D     RDDWT_D  STRATUM  YEAR  \\\n",
       "0           1   128521     12852     2         NaN  235.916956     1031  2017   \n",
       "1           2    10741      1074     2         NaN  957.353840     1068  2017   \n",
       "2           3   220011     22001     2         NaN  189.611299     1050  2017   \n",
       "3           4    86131      8613     1  675.430817  333.447418     1040  2017   \n",
       "4           5   227141     22714     1  482.617748  278.768063     1008  2017   \n",
       "\n",
       "   AGECPOXR  HAD_CPOX  ...  XVRCTY2  XVRCTY3  XVRCTY4  XVRCTY5  XVRCTY6  \\\n",
       "0       NaN         2  ...                        NaN      NaN      NaN   \n",
       "1       NaN         2  ...                        NaN      NaN      NaN   \n",
       "2       NaN         2  ...                        NaN      NaN      NaN   \n",
       "3       NaN         2  ...                        NaN      NaN      NaN   \n",
       "4       NaN         2  ...                        NaN      NaN      NaN   \n",
       "\n",
       "   XVRCTY7  XVRCTY8  XVRCTY9  INS_STAT2_I  INS_BREAK_I  \n",
       "0      NaN      NaN      NaN          NaN          NaN  \n",
       "1      NaN      NaN      NaN          NaN          NaN  \n",
       "2      NaN      NaN      NaN          NaN          NaN  \n",
       "3      NaN      NaN      NaN          1.0          2.0  \n",
       "4      NaN      NaN      NaN          2.0          1.0  \n",
       "\n",
       "[5 rows x 454 columns]"
      ]
     },
     "execution_count": 2,
     "metadata": {},
     "output_type": "execute_result"
    }
   ],
   "source": [
    "# read the file in a dataframe and show first 5 rows\n",
    "df = pd.read_csv('NISPUF17.csv')\n",
    "df.head()"
   ]
  },
  {
   "cell_type": "markdown",
   "id": "135c6fff",
   "metadata": {},
   "source": [
    "## Write a function called `proportion_of_education` which returns the proportion of children in the dataset who had a mother with the education levels equal to less than high school (<12), high school (12), more than high school but not a college graduate (>12) and college degree.\n",
    "\n",
    "### *This function should return a dictionary in the form of :* \n",
    " ```\n",
    "     {\"less than high school\":0.2,\n",
    "     \"high school\":0.4,\n",
    "     \"more than high school but not college\":0.2,\n",
    "     \"college\":0.2}\n",
    " ``` "
   ]
  },
  {
   "cell_type": "code",
   "execution_count": 5,
   "id": "2826a885",
   "metadata": {},
   "outputs": [],
   "source": [
    "def proportion_of_education(df):\n",
    "    # separate columns with respective education levels\n",
    "    edu = df['EDUC1']\n",
    "    edu1 = df[df['EDUC1'] == 1]   # for less than high school\n",
    "    edu2 = df[df['EDUC1'] == 2]   # for high school\n",
    "    edu3 = df[df['EDUC1'] == 3]   # for more than high school\n",
    "    edu4 = df[df['EDUC1'] == 4]   # for more than high school but not college\n",
    "    \n",
    "    # calculate the proportion \n",
    "    ed1=len(edu1)/len(edu)\n",
    "    ed2=len(edu2)/len(edu)\n",
    "    ed3=len(edu3)/len(edu)\n",
    "    ed4=len(edu4)/len(edu)\n",
    "    \n",
    "    return {'less than high school': ed1, 'high school': ed2,\n",
    "            'more than high school but not college': ed3, 'college': ed4 }"
   ]
  },
  {
   "cell_type": "code",
   "execution_count": 6,
   "id": "0f43063e",
   "metadata": {},
   "outputs": [
    {
     "data": {
      "text/plain": [
       "{'less than high school': 0.10202002459160373,\n",
       " 'high school': 0.172352011241876,\n",
       " 'more than high school but not college': 0.24588090637625154,\n",
       " 'college': 0.47974705779026877}"
      ]
     },
     "execution_count": 6,
     "metadata": {},
     "output_type": "execute_result"
    }
   ],
   "source": [
    "proportion_of_education(df)"
   ]
  },
  {
   "cell_type": "markdown",
   "id": "9ccd4a43",
   "metadata": {},
   "source": [
    "## Let's explore the relationship between being fed breastmilk as a child and getting a seasonal influenza vaccine from a healthcare provider. "
   ]
  },
  {
   "cell_type": "code",
   "execution_count": 7,
   "id": "484eb200",
   "metadata": {},
   "outputs": [],
   "source": [
    "bre = df[df['CBF_01'] == 1]  # being fed breastmilk\n",
    "nbre = df[df['CBF_01'] == 2]  # not fed breasmilk"
   ]
  },
  {
   "cell_type": "code",
   "execution_count": 8,
   "id": "a90fdfef",
   "metadata": {},
   "outputs": [],
   "source": [
    "yes = bre['P_NUMFLU'].mean()   # average numbrer of vaccine for breastmilk fed group\n",
    "no = nbre['P_NUMFLU'].mean()   # average numbrer of vaccine for NO breastmilk fed group"
   ]
  },
  {
   "cell_type": "code",
   "execution_count": 27,
   "id": "64ec82e3",
   "metadata": {},
   "outputs": [
    {
     "data": {
      "text/plain": [
       "(1.8799187420058687, 1.5963945918878317)"
      ]
     },
     "execution_count": 27,
     "metadata": {},
     "output_type": "execute_result"
    }
   ],
   "source": [
    "# Return a tuple of the average number of influenza vaccines for those children we know received\n",
    "# breastmilk as a child and those who know did not.\n",
    "(yes, no)"
   ]
  },
  {
   "cell_type": "markdown",
   "id": "a24c714b",
   "metadata": {},
   "source": [
    "## It would be interesting to see if there is any evidence of a link between vaccine effectiveness and sex of the child.  "
   ]
  },
  {
   "cell_type": "code",
   "execution_count": 10,
   "id": "1f4f12fa",
   "metadata": {},
   "outputs": [],
   "source": [
    "# separate males and females\n",
    "male = df[df['SEX'] ==1]\n",
    "female = df[df['SEX'] ==2]"
   ]
  },
  {
   "cell_type": "code",
   "execution_count": 11,
   "id": "c3106865",
   "metadata": {},
   "outputs": [],
   "source": [
    "# got at least one varicella dose\n",
    "male_vax = male[male['P_NUMVRC'] >= 1]\n",
    "female_vax = female[female['P_NUMVRC'] >= 1]\n",
    "\n",
    "# Calculate the ratio of the number of children who contracted chickenpox but were vaccinated against it\n",
    "# versus those who were vaccinate but did not contract chicken pox.\n",
    "ratio_m = len(male_vax[male_vax['HAD_CPOX'] ==1])/len(male_vax[male_vax['HAD_CPOX'] ==2])\n",
    "ratio_f = len(female_vax[female_vax['HAD_CPOX'] ==1])/len(female_vax[female_vax['HAD_CPOX'] ==2])"
   ]
  },
  {
   "cell_type": "code",
   "execution_count": 12,
   "id": "90a70a59",
   "metadata": {},
   "outputs": [
    {
     "data": {
      "text/plain": [
       "{'male': 0.009675583380762664, 'female': 0.0077918259335489565}"
      ]
     },
     "execution_count": 12,
     "metadata": {},
     "output_type": "execute_result"
    }
   ],
   "source": [
    "# Return results by sex.\n",
    "{'male': ratio_m, 'female': ratio_f}"
   ]
  },
  {
   "cell_type": "code",
   "execution_count": 78,
   "id": "6b2fa146",
   "metadata": {},
   "outputs": [],
   "source": []
  },
  {
   "cell_type": "code",
   "execution_count": 13,
   "id": "3c188d45",
   "metadata": {},
   "outputs": [],
   "source": [
    "# calculate the same ratio for unvaccinated group\n",
    "male_unvax = male[male['P_NUMVRC'] ==0]\n",
    "ratio = len(male_unvax[male_unvax['HAD_CPOX'] ==1 ]) / len(male_unvax[male_unvax['HAD_CPOX'] == 2 ])"
   ]
  },
  {
   "cell_type": "code",
   "execution_count": 14,
   "id": "117eeac1",
   "metadata": {},
   "outputs": [
    {
     "data": {
      "text/plain": [
       "0.043219076005961254"
      ]
     },
     "execution_count": 14,
     "metadata": {},
     "output_type": "execute_result"
    }
   ],
   "source": [
    "# print the ratio for males\n",
    "ratio"
   ]
  },
  {
   "cell_type": "markdown",
   "id": "c572c7d4",
   "metadata": {},
   "source": [
    "## Is there a correlation between having had the chicken pox and the number of chickenpox vaccine doses given (varicella)?\n",
    "\n",
    "### Some notes on interpreting the answer. The `had_chickenpox_column` is either `1` (for yes) or `2` (for no), and the `num_chickenpox_vaccine_column` is the number of doses a child has been given of the varicella vaccine.\n",
    "### A positive correlation (e.g., `corr > 0`) means that an increase in `had_chickenpox_column` (which means more no’s) would also increase the values of `num_chickenpox_vaccine_column` (which means more doses of vaccine).  If there is a negative correlation (e.g., `corr < 0`), it indicates that having had chickenpox is related to an increase in the number of vaccine doses."
   ]
  },
  {
   "cell_type": "code",
   "execution_count": 15,
   "id": "d40ef8ad",
   "metadata": {},
   "outputs": [],
   "source": [
    "pox_data = df[['HAD_CPOX','P_NUMVRC']]\n",
    "pox_data = pox_data[pox_data['HAD_CPOX'] <=2]\n",
    "final_data = pox_data.dropna()"
   ]
  },
  {
   "cell_type": "markdown",
   "id": "cce64c8a",
   "metadata": {},
   "source": [
    "### Also, `pval` is the probability that we observe a correlation between `had_chickenpox_column` and `num_chickenpox_vaccine_column` which is greater than or equal to a particular value occurred by chance.\n",
    "### A small `pval` means that the observed correlation is highly unlikely to occur by chance. In this case,  `pval` should be very small (will end in `e-18` indicating a very small number)."
   ]
  },
  {
   "cell_type": "code",
   "execution_count": 16,
   "id": "ae87de55",
   "metadata": {},
   "outputs": [],
   "source": [
    "corr, pval=stats.pearsonr(final_data[\"HAD_CPOX\"], final_data[\"P_NUMVRC\"])"
   ]
  },
  {
   "cell_type": "code",
   "execution_count": 17,
   "id": "99e129ca",
   "metadata": {},
   "outputs": [
    {
     "data": {
      "text/plain": [
       "(0.07044873460148046, 2.7780263182815486e-18)"
      ]
     },
     "execution_count": 17,
     "metadata": {},
     "output_type": "execute_result"
    }
   ],
   "source": [
    "corr, pval"
   ]
  },
  {
   "cell_type": "code",
   "execution_count": null,
   "id": "5fccce0b",
   "metadata": {},
   "outputs": [],
   "source": []
  }
 ],
 "metadata": {
  "kernelspec": {
   "display_name": "Python 3 (ipykernel)",
   "language": "python",
   "name": "python3"
  },
  "language_info": {
   "codemirror_mode": {
    "name": "ipython",
    "version": 3
   },
   "file_extension": ".py",
   "mimetype": "text/x-python",
   "name": "python",
   "nbconvert_exporter": "python",
   "pygments_lexer": "ipython3",
   "version": "3.10.0"
  }
 },
 "nbformat": 4,
 "nbformat_minor": 5
}
